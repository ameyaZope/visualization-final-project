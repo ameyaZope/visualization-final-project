{
 "cells": [
  {
   "cell_type": "code",
   "execution_count": 1,
   "id": "0c3238a1",
   "metadata": {},
   "outputs": [],
   "source": [
    "import os\n",
    "import glob\n",
    "import pandas as pd"
   ]
  },
  {
   "cell_type": "markdown",
   "id": "da70eb0f-bae0-4160-8f03-cd3f3e2fb429",
   "metadata": {},
   "source": [
    "## Data Pre Processing"
   ]
  },
  {
   "cell_type": "code",
   "execution_count": 2,
   "id": "2269202f",
   "metadata": {},
   "outputs": [
    {
     "name": "stdout",
     "output_type": "stream",
     "text": [
      "Filtering File average-years-of-schooling.csv\n",
      "Filtering File child-mortality-igme.csv\n",
      "Filtering File completion-rate-of-upper-secondary-education-sdg.csv\n",
      "Filtering File cross-country-literacy-rates.csv\n",
      "Filtering File daily-mean-income.csv\n",
      "Filtering File death-rate-from-air-pollution-per-100000.csv\n",
      "Filtering File death-rates-from-drug-use-disorders.csv\n",
      "Filtering File gender-inequality-index-from-the-human-development-report.csv\n",
      "Filtering File global-hunger-index.csv\n",
      "Filtering File global-vaccination-coverage.csv\n",
      "Filtering File happiness-cantril-ladder.csv\n",
      "Filtering File human-development-index.csv\n",
      "Filtering File learning-adjusted-years-of-school-lays.csv\n",
      "Filtering File life-expectancy-hmd-unwpp.csv\n",
      "Filtering File national-gdp-wb.csv\n",
      "Filtering File patent-applications-per-million.csv\n",
      "Filtering File political-corruption-index.csv\n",
      "Filtering File primary-secondary-enrollment-completion-rates.csv\n",
      "Filtering File researchers-in-rd-per-million-people.csv\n",
      "Filtering File rigorous-and-impartial-public-administration-index.csv\n",
      "Filtering File rule-of-law-index.csv\n",
      "Filtering File share-of-women-15-years-and-older-with-no-education.csv\n",
      "Filtering File total-alcohol-consumption-per-capita-litres-of-pure-alcohol.csv\n",
      "Filtering File total-government-expenditure-on-education-gdp.csv\n",
      "Filtering File youth-mortality-rate.csv\n"
     ]
    }
   ],
   "source": [
    "csv_files_names = [\"average-years-of-schooling.csv\", \"child-mortality-igme.csv\", \"completion-rate-of-upper-secondary-education-sdg.csv\", \"cross-country-literacy-rates.csv\", \"daily-mean-income.csv\", \"death-rate-from-air-pollution-per-100000.csv\", \"death-rates-from-drug-use-disorders.csv\", \"gender-inequality-index-from-the-human-development-report.csv\", \"global-hunger-index.csv\", \"global-vaccination-coverage.csv\", \"happiness-cantril-ladder.csv\", \"human-development-index.csv\", \"learning-adjusted-years-of-school-lays.csv\", \"life-expectancy-hmd-unwpp.csv\", \"national-gdp-wb.csv\", \"patent-applications-per-million.csv\", \"political-corruption-index.csv\", \"primary-secondary-enrollment-completion-rates.csv\", \"researchers-in-rd-per-million-people.csv\", \"rigorous-and-impartial-public-administration-index.csv\", \"rule-of-law-index.csv\", \"share-of-women-15-years-and-older-with-no-education.csv\", \"total-alcohol-consumption-per-capita-litres-of-pure-alcohol.csv\", \"total-government-expenditure-on-education-gdp.csv\", \"youth-mortality-rate.csv\"]\n",
    "\n",
    "#reduce the data to 2000-2020\n",
    "for file_name in csv_files_names:\n",
    "    print(f'Filtering File {file_name}')\n",
    "    new_csv = pd.read_csv(file_name)\n",
    "    new_csv = new_csv.loc[(new_csv['Year'] >= 2000) & (new_csv['Year'] <= 2020) & (new_csv['Code'].notna())]\n",
    "    new_csv.to_csv(f'./reduced_data/{file_name}', index=False)"
   ]
  },
  {
   "cell_type": "code",
   "execution_count": 3,
   "id": "2b27bee9-7cc4-4944-b64a-d47b550cff31",
   "metadata": {},
   "outputs": [],
   "source": [
    "# global-hunger-index.csv - had 2 columns instead of 1, out of which 1 column was useless, removing it\n",
    "df_correction = pd.read_csv('./reduced_data/global-hunger-index.csv')\n",
    "df_correction.drop(['411773-annotations'], axis=1, inplace=True)\n",
    "df_correction.to_csv('./reduced_data/global-hunger-index.csv', index=False)\n",
    "\n",
    "# global-vaccination-coverage.csv - has 11 columns instead of 1\n",
    "# corruption - has 3 columns instead of 1\n",
    "# primary-secondary-enrollment-completion-rates = has 5 columns instead of 1"
   ]
  },
  {
   "cell_type": "code",
   "execution_count": 4,
   "id": "869f2c17-a433-4b42-9f05-f937e17312e1",
   "metadata": {},
   "outputs": [
    {
     "name": "stdout",
     "output_type": "stream",
     "text": [
      "Merging new csv : average-years-of-schooling.csv with shape (3947, 4)\n",
      "After Merging df_final_data.shape=(4221, 5)\n",
      "Merging new csv : completion-rate-of-upper-secondary-education-sdg.csv with shape (3239, 4)\n",
      "After Merging df_final_data.shape=(4221, 6)\n",
      "Merging new csv : cross-country-literacy-rates.csv with shape (923, 4)\n",
      "After Merging df_final_data.shape=(4221, 7)\n",
      "Merging new csv : daily-mean-income.csv with shape (1576, 4)\n",
      "After Merging df_final_data.shape=(4221, 8)\n",
      "Merging new csv : death-rate-from-air-pollution-per-100000.csv with shape (4100, 4)\n",
      "After Merging df_final_data.shape=(4221, 9)\n",
      "Merging new csv : death-rates-from-drug-use-disorders.csv with shape (4100, 4)\n",
      "After Merging df_final_data.shape=(4221, 10)\n",
      "Merging new csv : gender-inequality-index-from-the-human-development-report.csv with shape (3433, 4)\n",
      "After Merging df_final_data.shape=(4221, 11)\n",
      "Merging new csv : global-hunger-index.csv with shape (343, 4)\n",
      "After Merging df_final_data.shape=(4221, 12)\n",
      "Merging new csv : global-vaccination-coverage.csv with shape (4097, 14)\n",
      "After Merging df_final_data.shape=(4221, 23)\n",
      "Merging new csv : happiness-cantril-ladder.csv with shape (1240, 4)\n",
      "After Merging df_final_data.shape=(4221, 24)\n",
      "Merging new csv : human-development-index.csv with shape (3931, 4)\n",
      "After Merging df_final_data.shape=(4221, 25)\n",
      "Merging new csv : learning-adjusted-years-of-school-lays.csv with shape (601, 4)\n",
      "After Merging df_final_data.shape=(4221, 26)\n",
      "Merging new csv : life-expectancy-hmd-unwpp.csv with shape (4977, 4)\n",
      "After Merging df_final_data.shape=(4221, 27)\n",
      "Merging new csv : national-gdp-wb.csv with shape (4025, 4)\n",
      "After Merging df_final_data.shape=(4221, 28)\n",
      "Merging new csv : patent-applications-per-million.csv with shape (2224, 4)\n",
      "After Merging df_final_data.shape=(4221, 29)\n",
      "Merging new csv : political-corruption-index.csv with shape (3732, 6)\n",
      "After Merging df_final_data.shape=(4221, 32)\n",
      "Merging new csv : primary-secondary-enrollment-completion-rates.csv with shape (3784, 8)\n",
      "After Merging df_final_data.shape=(4221, 37)\n",
      "Merging new csv : researchers-in-rd-per-million-people.csv with shape (1495, 4)\n",
      "After Merging df_final_data.shape=(4221, 38)\n",
      "Merging new csv : rigorous-and-impartial-public-administration-index.csv with shape (3738, 4)\n",
      "After Merging df_final_data.shape=(4221, 39)\n",
      "Merging new csv : rule-of-law-index.csv with shape (3738, 4)\n",
      "After Merging df_final_data.shape=(4221, 40)\n",
      "Merging new csv : share-of-women-15-years-and-older-with-no-education.csv with shape (630, 4)\n",
      "After Merging df_final_data.shape=(4221, 41)\n",
      "Merging new csv : total-alcohol-consumption-per-capita-litres-of-pure-alcohol.csv with shape (929, 4)\n",
      "After Merging df_final_data.shape=(4221, 42)\n",
      "Merging new csv : total-government-expenditure-on-education-gdp.csv with shape (3012, 4)\n",
      "After Merging df_final_data.shape=(4221, 43)\n",
      "Merging new csv : youth-mortality-rate.csv with shape (4221, 4)\n",
      "After Merging df_final_data.shape=(4221, 44)\n"
     ]
    }
   ],
   "source": [
    "csv_files_names = [\"average-years-of-schooling.csv\", \"completion-rate-of-upper-secondary-education-sdg.csv\", \"cross-country-literacy-rates.csv\", \"daily-mean-income.csv\", \"death-rate-from-air-pollution-per-100000.csv\", \"death-rates-from-drug-use-disorders.csv\", \"gender-inequality-index-from-the-human-development-report.csv\", \"global-hunger-index.csv\", \"global-vaccination-coverage.csv\", \"happiness-cantril-ladder.csv\", \"human-development-index.csv\", \"learning-adjusted-years-of-school-lays.csv\", \"life-expectancy-hmd-unwpp.csv\", \"national-gdp-wb.csv\", \"patent-applications-per-million.csv\", \"political-corruption-index.csv\", \"primary-secondary-enrollment-completion-rates.csv\", \"researchers-in-rd-per-million-people.csv\", \"rigorous-and-impartial-public-administration-index.csv\", \"rule-of-law-index.csv\", \"share-of-women-15-years-and-older-with-no-education.csv\", \"total-alcohol-consumption-per-capita-litres-of-pure-alcohol.csv\", \"total-government-expenditure-on-education-gdp.csv\", \"youth-mortality-rate.csv\"]\n",
    "final_data_file_name = 'final_data.csv'\n",
    "df_final_data = pd.read_csv('./reduced_data/child-mortality-igme.csv')\n",
    "for file_name in csv_files_names:\n",
    "    new_csv = pd.read_csv(f'./reduced_data/{file_name}')\n",
    "    print(f'Merging new csv : {file_name} with shape {new_csv.shape}')\n",
    "    df_final_data = pd.merge(df_final_data, new_csv,  how='left', left_on=['Entity','Code','Year'], right_on = ['Entity','Code','Year'])\n",
    "    print(f'After Merging df_final_data.shape={df_final_data.shape}')"
   ]
  },
  {
   "cell_type": "code",
   "execution_count": 5,
   "id": "678b8de5-b990-424e-b02d-f6eb3abd5054",
   "metadata": {},
   "outputs": [],
   "source": [
    "column_renames = {\n",
    "    'Entity': 'Entity',\n",
    "    'Code': 'Code',\n",
    "    'Year': 'Year',\n",
    "    'Observation value - Unit of measure: Deaths per 100 live births - Indicator: Under-five mortality rate - Sex: Both sexes - Wealth quintile: All wealth quintiles': 'Under_five_mortality_rate',\n",
    "    'Mean years of schooling': 'Mean_schooling_years',\n",
    "    '4.1.2 - Completion rate, by sex, location, wealth quintile and education level (%) - SE_TOT_CPLR - Upper secondary - All areas - Total (national average) or no breakdown - Both sexes': 'Upper_secondary_completion_rate',\n",
    "    'Historical and more recent literacy estimates': 'Literacy_estimates',\n",
    "    'Mean income or consumption': 'Mean_income_consumption',\n",
    "    'Deaths that are from all causes attributed to air pollution per 100,000 people, in both sexes aged age-standardized': 'Deaths_due_to_air_pollution',\n",
    "    'Deaths - Drug use disorders - Sex: Both - Age: Age-standardized (Rate)': 'Drug_use_death_rate',\n",
    "    'Gender Inequality Index': 'Gender_Inequality_Index',\n",
    "    'Global Hunger Index (2021)': 'Global_Hunger_Index',\n",
    "    'BCG (% of one-year-olds immunized)': 'BCG_immunization',\n",
    "    'HepB3 (% of one-year-olds immunized)': 'HepB3_immunization',\n",
    "    'Hib3 (% of one-year-olds immunized)': 'Hib3_immunization',\n",
    "    'IPV1 (% of one-year-olds immunized)': 'IPV1_immunization',\n",
    "    'MCV1 (% of one-year-olds immunized)': 'MCV1_immunization',\n",
    "    'PCV3 (% of one-year-olds immunized)': 'PCV3_immunization',\n",
    "    'Pol3 (% of one-year-olds immunized)': 'Pol3_immunization',\n",
    "    'RCV1 (% of one-year-olds immunized)': 'RCV1_immunization',\n",
    "    'RotaC (% of one-year-olds immunized)': 'RotaC_immunization',\n",
    "    'YFV (% of one-year-olds immunized)': 'YFV_immunization',\n",
    "    'DTP3 (% of one-year-olds immunized)': 'DTP3_immunization',\n",
    "    'Cantril ladder score': 'Cantril_ladder_score',\n",
    "    'Human Development Index': 'HDI',\n",
    "    'Learning-Adjusted Years of School': 'Adjusted_school_years',\n",
    "    'Life expectancy - Type: period - Sex: both - Age: 0': 'Life_expectancy_at_birth',\n",
    "    'GDP, PPP (constant 2017 international $)': 'GDP_PPP',\n",
    "    'Patent applications per million people': 'Patent_applications_per_million',\n",
    "    'corruption_vdem_owid': 'Corruption_index',\n",
    "    'corruption_vdem_high_owid': 'High_corruption_index',\n",
    "    'corruption_vdem_low_owid': 'Low_corruption_index',\n",
    "    'School enrollment, primary (% gross)': 'Primary_school_enrollment',\n",
    "    'School enrollment, secondary (% gross)': 'Secondary_school_enrollment',\n",
    "    'School enrollment, tertiary (% gross)': 'Tertiary_school_enrollment',\n",
    "    'Primary completion rate, total (% of relevant age group)': 'Primary_completion_rate',\n",
    "    'Lower secondary completion rate, total (% of relevant age group)': 'Lower_secondary_completion_rate',\n",
    "    'Researchers in R&D (per million people)': 'Researchers_per_million',\n",
    "    'public_admin_vdem_owid': 'Public_admin_index',\n",
    "    'rule_of_law_vdem_owid': 'Rule_of_law_index',\n",
    "    'Combined - percentage of female youth and adults aged between 15 and 64 years with no education': 'Female_no_education_rate',\n",
    "    'Total alcohol consumption per capita (liters of pure alcohol, projected estimates, 15+ years of age)': 'Alcohol_consumption_per_capita',\n",
    "    'Historical and more recent expenditure estimates': 'Expenditure_estimates',\n",
    "    'Under fifteen mortality - Unit of measure: Deaths per 100 live births - Indicator: Under-fifteen mortality rate - Sex: Both sexes - Wealth quintile: All wealth quintiles': 'Under_fifteen_mortality_rate'\n",
    "}\n",
    "\n",
    "df_final_data.rename(columns=column_renames, inplace=True)"
   ]
  },
  {
   "cell_type": "code",
   "execution_count": 6,
   "id": "afbdf515",
   "metadata": {},
   "outputs": [
    {
     "name": "stdout",
     "output_type": "stream",
     "text": [
      "<class 'pandas.core.frame.DataFrame'>\n",
      "RangeIndex: 4221 entries, 0 to 4220\n",
      "Data columns (total 44 columns):\n",
      " #   Column                           Non-Null Count  Dtype  \n",
      "---  ------                           --------------  -----  \n",
      " 0   Entity                           4221 non-null   object \n",
      " 1   Code                             4221 non-null   object \n",
      " 2   Year                             4221 non-null   int64  \n",
      " 3   Under_five_mortality_rate        4221 non-null   float64\n",
      " 4   Mean_schooling_years             3905 non-null   float64\n",
      " 5   Upper_secondary_completion_rate  3238 non-null   float64\n",
      " 6   Literacy_estimates               896 non-null    float64\n",
      " 7   Mean_income_consumption          1570 non-null   float64\n",
      " 8   Deaths_due_to_air_pollution      3920 non-null   float64\n",
      " 9   Drug_use_death_rate              3920 non-null   float64\n",
      " 10  Gender_Inequality_Index          3433 non-null   float64\n",
      " 11  Global_Hunger_Index              343 non-null    float64\n",
      " 12  BCG_immunization                 3356 non-null   float64\n",
      " 13  HepB3_immunization               3515 non-null   float64\n",
      " 14  Hib3_immunization                3064 non-null   float64\n",
      " 15  IPV1_immunization                1059 non-null   float64\n",
      " 16  MCV1_immunization                4097 non-null   float64\n",
      " 17  PCV3_immunization                1259 non-null   float64\n",
      " 18  Pol3_immunization                4095 non-null   float64\n",
      " 19  RCV1_immunization                2815 non-null   float64\n",
      " 20  RotaC_immunization               825 non-null    float64\n",
      " 21  YFV_immunization                 678 non-null    float64\n",
      " 22  DTP3_immunization                4097 non-null   float64\n",
      " 23  Cantril_ladder_score             1212 non-null   float64\n",
      " 24  HDI                              3889 non-null   float64\n",
      " 25  Adjusted_school_years            593 non-null    float64\n",
      " 26  Life_expectancy_at_birth         4221 non-null   float64\n",
      " 27  GDP_PPP                          3874 non-null   float64\n",
      " 28  Patent_applications_per_million  2189 non-null   float64\n",
      " 29  Corruption_index                 3648 non-null   float64\n",
      " 30  High_corruption_index            3648 non-null   float64\n",
      " 31  Low_corruption_index             3648 non-null   float64\n",
      " 32  Primary_school_enrollment        3429 non-null   float64\n",
      " 33  Secondary_school_enrollment      2929 non-null   float64\n",
      " 34  Tertiary_school_enrollment       2660 non-null   float64\n",
      " 35  Primary_completion_rate          2681 non-null   float64\n",
      " 36  Lower_secondary_completion_rate  2458 non-null   float64\n",
      " 37  Researchers_per_million          1441 non-null   float64\n",
      " 38  Public_admin_index               3654 non-null   float64\n",
      " 39  Rule_of_law_index                3654 non-null   float64\n",
      " 40  Female_no_education_rate         613 non-null    float64\n",
      " 41  Alcohol_consumption_per_capita   929 non-null    float64\n",
      " 42  Expenditure_estimates            2926 non-null   float64\n",
      " 43  Under_fifteen_mortality_rate     4221 non-null   float64\n",
      "dtypes: float64(41), int64(1), object(2)\n",
      "memory usage: 1.4+ MB\n"
     ]
    }
   ],
   "source": [
    "df_final_data.info()"
   ]
  },
  {
   "cell_type": "code",
   "execution_count": 7,
   "id": "5d86eb6c",
   "metadata": {
    "scrolled": true
   },
   "outputs": [],
   "source": [
    "df_final_data.to_csv('final_data.csv', index=False)"
   ]
  },
  {
   "cell_type": "code",
   "execution_count": 8,
   "id": "dda3d4d9-27ed-4ee8-8404-66bcbc6f1051",
   "metadata": {},
   "outputs": [
    {
     "data": {
      "text/plain": [
       "(4221, 44)"
      ]
     },
     "execution_count": 8,
     "metadata": {},
     "output_type": "execute_result"
    }
   ],
   "source": [
    "df_final_data.shape"
   ]
  },
  {
   "cell_type": "code",
   "execution_count": null,
   "id": "fb874a7a-c6c0-49a2-9b11-4dced4426c4f",
   "metadata": {},
   "outputs": [],
   "source": []
  }
 ],
 "metadata": {
  "kernelspec": {
   "display_name": "Python 3 (ipykernel)",
   "language": "python",
   "name": "python3"
  },
  "language_info": {
   "codemirror_mode": {
    "name": "ipython",
    "version": 3
   },
   "file_extension": ".py",
   "mimetype": "text/x-python",
   "name": "python",
   "nbconvert_exporter": "python",
   "pygments_lexer": "ipython3",
   "version": "3.9.18"
  }
 },
 "nbformat": 4,
 "nbformat_minor": 5
}
